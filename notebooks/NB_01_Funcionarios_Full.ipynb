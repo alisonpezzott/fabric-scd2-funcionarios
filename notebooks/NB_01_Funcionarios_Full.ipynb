{
 "cells": [
  {
   "cell_type": "markdown",
   "id": "57550ded",
   "metadata": {},
   "source": [
    "# Criação da tabela SCD type 2 'dim_funcionarios' pelo método FULL"
   ]
  },
  {
   "cell_type": "markdown",
   "id": "6f2a88bf",
   "metadata": {},
   "source": [
    "> [!CAUTION]  \n",
    "> Todos os dados serão sobrescritos"
   ]
  },
  {
   "cell_type": "markdown",
   "id": "abe682b1",
   "metadata": {},
   "source": [
    "## Criação da tabela 'tb_log_eventos'  "
   ]
  },
  {
   "cell_type": "code",
   "execution_count": null,
   "id": "2dd5b263-ddf2-42d8-a0fc-66d461d7810b",
   "metadata": {
    "collapsed": false,
    "microsoft": {
     "language": "sparksql",
     "language_group": "synapse_pyspark"
    }
   },
   "outputs": [],
   "source": [
    "%%sql\n",
    "\n",
    "-- Cria a tabela 'tb_log_eventos'\n",
    "DROP TABLE IF EXISTS tb_log_eventos;\n",
    "CREATE TABLE IF NOT EXISTS tb_log_eventos(\n",
    "    Matricula INT, \n",
    "    Nome VARCHAR(200),\n",
    "    Filial VARCHAR(100),\n",
    "    Departamento VARCHAR(150),\n",
    "    Cargo VARCHAR(150),\n",
    "    DataAdmissao DATE,\n",
    "    DataDesligamento DATE,\n",
    "    Operacao STRING,\n",
    "    DataLog TIMESTAMP\n",
    ")\n",
    "USING DELTA;"
   ]
  },
  {
   "cell_type": "markdown",
   "id": "cd910457",
   "metadata": {},
   "source": [
    "## Inserção de dados de exemplo na 'tb_log_eventos'"
   ]
  },
  {
   "cell_type": "code",
   "execution_count": null,
   "id": "d737d929-037e-4ac2-89fe-e4f5f8eea684",
   "metadata": {
    "collapsed": false,
    "microsoft": {
     "language": "sparksql",
     "language_group": "synapse_pyspark"
    }
   },
   "outputs": [],
   "source": [
    "%%sql\n",
    "\n",
    "-- Insere dados de exemplo na 'tb_log_eventos'\n",
    "INSERT INTO tb_log_eventos(Matricula, Nome, Filial, Departamento, Cargo, DataAdmissao, DataDesligamento, Operacao, DataLog) VALUES \n",
    "(98, 'FLAVIO FAGUNDES', 'JUNDIAI', 'PRODUCAO', 'OPERADOR DE MAQUINA III', '2021-12-07', NULL, 'ADMISSAO', '2021-12-07 08:40:23'),\n",
    "(100, 'MARIA PEREIRA', 'JUNDIAI', 'PRODUCAO', 'AJUDANTE DE PRODUCAO', '2022-01-17', NULL, 'ADMISSAO', '2022-01-17 09:10:17'),\n",
    "(143, 'JOSE DA SILVA', 'JUNDIAI', 'PRODUCAO', 'OPERADOR DE MAQUINA III', '2022-02-05', NULL, 'ADMISSAO', '2022-02-05 13:00:00'),\n",
    "(100, 'MARIA PEREIRA', 'JUNDIAI', 'PRODUCAO', 'OPERADOR DE MAQUINA I', '2022-01-17', NULL, 'ALTERACAO', '2023-02-20 15:00:00'),\n",
    "(98, 'FLAVIO FAGUNDES', 'CAMPINAS', 'PRODUCAO', 'OPERADOR DE MAQUINA III', '2021-12-07', NULL, 'ALTERACAO', '2023-03-01 14:00:00'),\n",
    "(143, 'JOSE DA SILVA', 'JUNDIAI', 'MANUTENCAO', 'ELETRICISTA DE MANUTENCAO PL', '2022-02-05', NULL, 'ALTERACAO', '2023-04-07 15:00:00'),\n",
    "(202, 'MATEUS SOUZA', 'PIRACICABA', 'PRODUCAO', 'OPERADOR DE MAQUINA I', '2023-04-29', NULL, 'ADMISSAO', '2023-04-29 10:00:00'),\n",
    "(298, 'MARCOS TEIXEIRA', 'CAMPINAS', 'QUALIDADE', 'ANALISTA DE QUALIDADE JR', '2023-07-14', NULL, 'ADMISSAO', '2023-07-14 15:00:00'),\n",
    "(100, 'MARIA PEREIRA', 'JUNDIAI', 'PRODUCAO', 'OPERADOR DE MAQUINA II', '2022-01-17', NULL, 'ALTERACAO', '2024-03-05 08:00:00'),\n",
    "(202, 'MATEUS SOUZA', 'CAMPINAS', 'PRODUCAO', 'OPERADOR DE MAQUINA II', '2023-04-29', NULL, 'ALTERACAO', '2024-09-19 11:00:00'),\n",
    "(100, 'MARIA PEREIRA', 'JUNDIAI', 'PRODUCAO', 'OPERADOR DE MAQUINA III', '2022-01-17', NULL, 'ALTERACAO', '2024-10-10 09:00:00'),\n",
    "(98, 'FLAVIO FAGUNDES', 'CAMPINAS', 'PRODUCAO', 'SUPERVISOR DE PRODUCAO', '2021-12-07', NULL, 'ALTERACAO', '2024-11-05 10:00:00'),\n",
    "(298, 'MARCOS TEIXEIRA', 'PIRACICABA', 'QUALIDADE', 'ANALISTA DE QUALIDADE JR', '2023-07-14', '2024-11-10', 'DESLIGAMENTO', '2024-11-10 08:00:00'),\n",
    "(100, 'MARIA PEREIRA', 'JUNDIAI', 'PRODUCAO', 'OPERADOR DE MAQUINA III', '2022-01-17', '2024-12-13', 'DESLIGAMENTO', '2024-12-13 13:00:00'),\n",
    "(143, 'JOSE DA SILVA', 'JUNDIAI', 'MANUTENCAO', 'ELETRICISTA DE MANUTENCAO SR', '2022-02-05', NULL, 'ALTERACAO', '2024-12-15 09:00:00');\n"
   ]
  },
  {
   "cell_type": "markdown",
   "id": "f12e8391",
   "metadata": {},
   "source": [
    "## Criação da tabela 'dim_funcionarios' a partir da 'tb_log_eventos'  "
   ]
  },
  {
   "cell_type": "code",
   "execution_count": null,
   "id": "c8f41e15-4fb9-41f5-a95d-e08c6560df64",
   "metadata": {
    "collapsed": false,
    "microsoft": {
     "language": "sparksql",
     "language_group": "synapse_pyspark"
    }
   },
   "outputs": [],
   "source": [
    "%%sql\n",
    "\n",
    "-- Criação da tabela 'dim_funcionarios' a partir do 'tb_log_eventos' \n",
    "\n",
    "-- Cria ou subtitui a tabela 'dim_funcionarios'\n",
    "DROP TABLE IF EXISTS dim_funcionarios;\n",
    "CREATE dim_funcionarios USING DELTA AS \n",
    "\n",
    "-- CTE com o log apenas das linhas onde 'Operacao' não é 'DESLIGAMENTO'\n",
    "WITH CTE_Log AS (\n",
    "    SELECT \n",
    "        Matricula,\n",
    "        Nome, \n",
    "        Filial,\n",
    "        Departamento,\n",
    "        Cargo,\n",
    "        DataAdmissao,\n",
    "        DataDesligamento,\n",
    "        DataLog,\n",
    "        DataLog AS DataVigenciaInicial,\n",
    "        \n",
    "        -- Window function para trazer o próximo 'DataLog' por 'Matricula'\n",
    "        LEAD(DataLog) OVER (PARTITION BY Matricula ORDER BY DataLog) AS ProximoDataLog,\n",
    "        \n",
    "        -- Window function para criar a coluna 'MatriculaSk' a partir da ordem do 'DataLog'\n",
    "        ROW_NUMBER() OVER (ORDER BY DataLog) AS MatriculaSk\n",
    "    \n",
    "    FROM tb_log_eventos\n",
    "    WHERE Operacao <> 'DESLIGAMENTO'\n",
    ")\n",
    "\n",
    "-- Seleciona a partir da 'CTE_Log'\n",
    "SELECT \n",
    "    MatriculaSk,  \n",
    "    Matricula,\n",
    "    Nome, \n",
    "    Filial,\n",
    "    Departamento,\n",
    "    Cargo,\n",
    "    DataAdmissao,\n",
    "    DataDesligamento,\n",
    "    DataLog,\n",
    "\n",
    "    -- 'DataVigenciaInicial' é a data de alteração\n",
    "    CAST(DataVigenciaInicial AS DATE) AS DataVigenciaInicial, \n",
    "    \n",
    "    -- Coluna 'DataVigenciaFinal'\n",
    "    -- Quando o 'ProximoDataLog' não estiver vazio, pega o\n",
    "    -- 'ProximoDataLog' e subtrai um dia\n",
    "    -- Caso estiver vazio então quer dizer que é o último\n",
    "    -- Logo adiciona '9999-12-31'\n",
    "    CASE \n",
    "        WHEN ProximoDataLog IS NOT NULL \n",
    "        THEN CAST(DATEADD(DAY, -1, ProximoDataLog) AS DATE)\n",
    "        ELSE CAST('9999-12-31' AS DATE)\n",
    "    END AS DataVigenciaFinal,\n",
    "    \n",
    "    -- 'EstaAtivo' traz 1 quando for o último evento\n",
    "    CASE \n",
    "        WHEN ProximoDataLog IS NULL THEN 1 \n",
    "        ELSE 0 \n",
    "    END AS EstaAtivo\n",
    "\n",
    "FROM CTE_Log\n",
    "ORDER BY DataLog;\n"
   ]
  },
  {
   "cell_type": "markdown",
   "id": "e7f9af87",
   "metadata": {},
   "source": [
    "## Update da tabela 'dim_funcionarios' com as operações de DESLIGAMENTO  "
   ]
  },
  {
   "cell_type": "code",
   "execution_count": null,
   "id": "e1b42187-b17e-46d2-965b-ccad3e3befad",
   "metadata": {
    "collapsed": false,
    "microsoft": {
     "language": "sparksql",
     "language_group": "synapse_pyspark"
    }
   },
   "outputs": [],
   "source": [
    "%%sql\n",
    "\n",
    "-- Update das operações de desligamento\n",
    "\n",
    "-- Cria CTE com as operações de desligamento\n",
    "WITH CTE_Desligamentos AS (\n",
    "    SELECT \n",
    "        Matricula,\n",
    "        Nome, \n",
    "        Filial,\n",
    "        Departamento,\n",
    "        Cargo,\n",
    "        DataAdmissao,\n",
    "        DataDesligamento,\n",
    "        DataLog,\n",
    "        CAST(DataLog AS DATE) AS DataVigenciaInicial\n",
    "    FROM tb_log_eventos\n",
    "    WHERE Operacao = 'DESLIGAMENTO'\n",
    ")\n",
    "\n",
    "-- Realiza o merge na tabela 'dim_funcionarios'\n",
    "MERGE INTO dim_funcionarios AS f\n",
    "\n",
    "-- a partir da 'CTE_Desligamentos'\n",
    "USING (SELECT * FROM CTE_Desligamentos) AS d  \n",
    "\n",
    "-- nas linhas onde as matriculas correspondem e estão ativos\n",
    "ON f.Matricula = d.Matricula AND f.EstaAtivo = 1\n",
    "\n",
    "-- Atualizando os registros que já existem\n",
    "WHEN MATCHED THEN \n",
    "    UPDATE SET \n",
    "\n",
    "        -- As colunas 'DataDesligamento' e 'DataVigenciaFinal' em dim_funcionarios\n",
    "        -- recebem o dia anterior da 'DataVigenciaInicial' da 'CTE_Desligamentos'\n",
    "        f.DataDesligamento = CAST(DATEADD(DAY, -1, d.DataVigenciaInicial) AS DATE),\n",
    "        f.DataVigenciaFinal = CAST(DATEADD(DAY, -1, d.DataVigenciaInicial) AS DATE),\n",
    "\n",
    "        -- E coloca 'EstaAtivo' como 0\n",
    "        f.EstaAtivo = 0;\n"
   ]
  }
 ],
 "metadata": {
  "dependencies": {
   "lakehouse": {
    "default_lakehouse": "11540624-ed9f-41e1-9b0e-6bd60e915153",
    "default_lakehouse_name": "LK_01",
    "default_lakehouse_workspace_id": "cb84b88f-2b8c-480e-9c0b-2e37850e3d4b",
    "known_lakehouses": [
     {
      "id": "11540624-ed9f-41e1-9b0e-6bd60e915153"
     }
    ]
   }
  },
  "kernel_info": {
   "name": "synapse_pyspark"
  },
  "kernelspec": {
   "display_name": "Python 3",
   "language": "python",
   "name": "python3"
  },
  "language_info": {
   "codemirror_mode": {
    "name": "ipython",
    "version": 3
   },
   "file_extension": ".py",
   "mimetype": "text/x-python",
   "name": "python",
   "nbconvert_exporter": "python",
   "pygments_lexer": "ipython3",
   "version": "3.12.6"
  },
  "microsoft": {
   "language": "python",
   "language_group": "synapse_pyspark"
  },
  "nteract": {
   "version": "nteract-front-end@1.0.0"
  },
  "spark_compute": {
   "compute_id": "/trident/default",
   "session_options": {
    "conf": {
     "spark.synapse.nbs.session.timeout": "1200000"
    }
   }
  }
 },
 "nbformat": 4,
 "nbformat_minor": 5
}
